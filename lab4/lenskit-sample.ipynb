{
 "cells": [
  {
   "cell_type": "code",
   "execution_count": 97,
   "metadata": {},
   "outputs": [],
   "source": [
    "from lenskit.datasets import ML100K\n",
    "from lenskit import batch, topn, util\n",
    "from lenskit import crossfold as xf\n",
    "from lenskit.algorithms import Recommender, als, item_knn, user_knn\n",
    "from lenskit import topn"
   ]
  },
  {
   "cell_type": "code",
   "execution_count": 98,
   "metadata": {},
   "outputs": [],
   "source": [
    "import pandas as pd"
   ]
  },
  {
   "cell_type": "code",
   "execution_count": 99,
   "metadata": {},
   "outputs": [],
   "source": [
    "%matplotlib inline"
   ]
  },
  {
   "cell_type": "code",
   "execution_count": 100,
   "metadata": {},
   "outputs": [
    {
     "data": {
      "text/html": [
       "<div>\n",
       "<style scoped>\n",
       "    .dataframe tbody tr th:only-of-type {\n",
       "        vertical-align: middle;\n",
       "    }\n",
       "\n",
       "    .dataframe tbody tr th {\n",
       "        vertical-align: top;\n",
       "    }\n",
       "\n",
       "    .dataframe thead th {\n",
       "        text-align: right;\n",
       "    }\n",
       "</style>\n",
       "<table border=\"1\" class=\"dataframe\">\n",
       "  <thead>\n",
       "    <tr style=\"text-align: right;\">\n",
       "      <th></th>\n",
       "      <th>user</th>\n",
       "      <th>item</th>\n",
       "      <th>rating</th>\n",
       "      <th>timestamp</th>\n",
       "    </tr>\n",
       "  </thead>\n",
       "  <tbody>\n",
       "    <tr>\n",
       "      <th>0</th>\n",
       "      <td>196</td>\n",
       "      <td>242</td>\n",
       "      <td>3.0</td>\n",
       "      <td>881250949</td>\n",
       "    </tr>\n",
       "    <tr>\n",
       "      <th>1</th>\n",
       "      <td>186</td>\n",
       "      <td>302</td>\n",
       "      <td>3.0</td>\n",
       "      <td>891717742</td>\n",
       "    </tr>\n",
       "    <tr>\n",
       "      <th>2</th>\n",
       "      <td>22</td>\n",
       "      <td>377</td>\n",
       "      <td>1.0</td>\n",
       "      <td>878887116</td>\n",
       "    </tr>\n",
       "    <tr>\n",
       "      <th>3</th>\n",
       "      <td>244</td>\n",
       "      <td>51</td>\n",
       "      <td>2.0</td>\n",
       "      <td>880606923</td>\n",
       "    </tr>\n",
       "    <tr>\n",
       "      <th>4</th>\n",
       "      <td>166</td>\n",
       "      <td>346</td>\n",
       "      <td>1.0</td>\n",
       "      <td>886397596</td>\n",
       "    </tr>\n",
       "  </tbody>\n",
       "</table>\n",
       "</div>"
      ],
      "text/plain": [
       "   user  item  rating  timestamp\n",
       "0   196   242     3.0  881250949\n",
       "1   186   302     3.0  891717742\n",
       "2    22   377     1.0  878887116\n",
       "3   244    51     2.0  880606923\n",
       "4   166   346     1.0  886397596"
      ]
     },
     "execution_count": 100,
     "metadata": {},
     "output_type": "execute_result"
    }
   ],
   "source": [
    "ml100k = ML100K('ml-100k')\n",
    "ratings = ml100k.ratings\n",
    "ratings.head()"
   ]
  },
  {
   "cell_type": "code",
   "execution_count": 118,
   "metadata": {},
   "outputs": [
    {
     "data": {
      "text/plain": [
       "item\n",
       "1     Toy Story (1995)\n",
       "2     GoldenEye (1995)\n",
       "3    Four Rooms (1995)\n",
       "4    Get Shorty (1995)\n",
       "5       Copycat (1995)\n",
       "Name: title, dtype: object"
      ]
     },
     "execution_count": 118,
     "metadata": {},
     "output_type": "execute_result"
    }
   ],
   "source": [
    "movies = ml100k.movies\n",
    "movies[\"title\"].head()"
   ]
  },
  {
   "cell_type": "code",
   "execution_count": 102,
   "metadata": {},
   "outputs": [],
   "source": [
    "algo_ii = item_knn.ItemItem(20)\n",
    "algo_uu = user_knn.UserUser(20)\n",
    "algo_als = als.BiasedMF(50)"
   ]
  },
  {
   "cell_type": "code",
   "execution_count": 103,
   "metadata": {},
   "outputs": [],
   "source": [
    "def eval(aname, algo, train, test):\n",
    "    fittable = util.clone(algo)\n",
    "    fittable = Recommender.adapt(fittable)\n",
    "    fittable.fit(train)\n",
    "    users = test.user.unique()\n",
    "    # now we run the recommender\n",
    "    recs = batch.recommend(fittable, users, 100)\n",
    "    # add the algorithm name for analyzability\n",
    "    recs['Algorithm'] = aname\n",
    "    return recs"
   ]
  },
  {
   "cell_type": "code",
   "execution_count": 119,
   "metadata": {},
   "outputs": [],
   "source": [
    "all_recs = []\n",
    "test_data = []\n",
    "for train, test in xf.partition_users(ratings[['user', 'item', 'rating']], 5, xf.SampleFrac(0.2)):\n",
    "    test_data.append(test)\n",
    "    all_recs.append(eval('ItemItem', algo_ii, train, test))\n",
    "    all_recs.append(eval('UserUser', algo_uu, train, test))\n",
    "    all_recs.append(eval('ALS', algo_als, train, test))"
   ]
  },
  {
   "cell_type": "code",
   "execution_count": 120,
   "metadata": {},
   "outputs": [
    {
     "data": {
      "text/html": [
       "<div>\n",
       "<style scoped>\n",
       "    .dataframe tbody tr th:only-of-type {\n",
       "        vertical-align: middle;\n",
       "    }\n",
       "\n",
       "    .dataframe tbody tr th {\n",
       "        vertical-align: top;\n",
       "    }\n",
       "\n",
       "    .dataframe thead th {\n",
       "        text-align: right;\n",
       "    }\n",
       "</style>\n",
       "<table border=\"1\" class=\"dataframe\">\n",
       "  <thead>\n",
       "    <tr style=\"text-align: right;\">\n",
       "      <th></th>\n",
       "      <th>item</th>\n",
       "      <th>score</th>\n",
       "      <th>user</th>\n",
       "      <th>rank</th>\n",
       "      <th>Algorithm</th>\n",
       "    </tr>\n",
       "  </thead>\n",
       "  <tbody>\n",
       "    <tr>\n",
       "      <th>0</th>\n",
       "      <td>513</td>\n",
       "      <td>5.741943</td>\n",
       "      <td>4</td>\n",
       "      <td>1</td>\n",
       "      <td>ItemItem</td>\n",
       "    </tr>\n",
       "    <tr>\n",
       "      <th>1</th>\n",
       "      <td>59</td>\n",
       "      <td>5.578698</td>\n",
       "      <td>4</td>\n",
       "      <td>2</td>\n",
       "      <td>ItemItem</td>\n",
       "    </tr>\n",
       "    <tr>\n",
       "      <th>2</th>\n",
       "      <td>656</td>\n",
       "      <td>5.546707</td>\n",
       "      <td>4</td>\n",
       "      <td>3</td>\n",
       "      <td>ItemItem</td>\n",
       "    </tr>\n",
       "    <tr>\n",
       "      <th>3</th>\n",
       "      <td>1125</td>\n",
       "      <td>5.533543</td>\n",
       "      <td>4</td>\n",
       "      <td>4</td>\n",
       "      <td>ItemItem</td>\n",
       "    </tr>\n",
       "    <tr>\n",
       "      <th>4</th>\n",
       "      <td>641</td>\n",
       "      <td>5.523110</td>\n",
       "      <td>4</td>\n",
       "      <td>5</td>\n",
       "      <td>ItemItem</td>\n",
       "    </tr>\n",
       "  </tbody>\n",
       "</table>\n",
       "</div>"
      ],
      "text/plain": [
       "   item     score  user  rank Algorithm\n",
       "0   513  5.741943     4     1  ItemItem\n",
       "1    59  5.578698     4     2  ItemItem\n",
       "2   656  5.546707     4     3  ItemItem\n",
       "3  1125  5.533543     4     4  ItemItem\n",
       "4   641  5.523110     4     5  ItemItem"
      ]
     },
     "execution_count": 120,
     "metadata": {},
     "output_type": "execute_result"
    }
   ],
   "source": [
    "all_recs = pd.concat(all_recs, ignore_index=True)\n",
    "all_recs.head()"
   ]
  },
  {
   "cell_type": "code",
   "execution_count": 106,
   "metadata": {},
   "outputs": [],
   "source": [
    "# alldata = [all_recs, movies]\n",
    "\n",
    "# result = pd.concat(alldata)\n",
    "# result.head()"
   ]
  },
  {
   "cell_type": "code",
   "execution_count": 121,
   "metadata": {},
   "outputs": [],
   "source": [
    "test_data = pd.concat(test_data, ignore_index=True)"
   ]
  },
  {
   "cell_type": "code",
   "execution_count": 122,
   "metadata": {},
   "outputs": [
    {
     "data": {
      "text/html": [
       "<div>\n",
       "<style scoped>\n",
       "    .dataframe tbody tr th:only-of-type {\n",
       "        vertical-align: middle;\n",
       "    }\n",
       "\n",
       "    .dataframe tbody tr th {\n",
       "        vertical-align: top;\n",
       "    }\n",
       "\n",
       "    .dataframe thead th {\n",
       "        text-align: right;\n",
       "    }\n",
       "</style>\n",
       "<table border=\"1\" class=\"dataframe\">\n",
       "  <thead>\n",
       "    <tr style=\"text-align: right;\">\n",
       "      <th></th>\n",
       "      <th></th>\n",
       "      <th>nrecs</th>\n",
       "      <th>ndcg</th>\n",
       "    </tr>\n",
       "    <tr>\n",
       "      <th>user</th>\n",
       "      <th>Algorithm</th>\n",
       "      <th></th>\n",
       "      <th></th>\n",
       "    </tr>\n",
       "  </thead>\n",
       "  <tbody>\n",
       "    <tr>\n",
       "      <th rowspan=\"3\" valign=\"top\">1</th>\n",
       "      <th>ALS</th>\n",
       "      <td>100.0</td>\n",
       "      <td>0.290745</td>\n",
       "    </tr>\n",
       "    <tr>\n",
       "      <th>ItemItem</th>\n",
       "      <td>100.0</td>\n",
       "      <td>0.244476</td>\n",
       "    </tr>\n",
       "    <tr>\n",
       "      <th>UserUser</th>\n",
       "      <td>100.0</td>\n",
       "      <td>0.196846</td>\n",
       "    </tr>\n",
       "    <tr>\n",
       "      <th rowspan=\"2\" valign=\"top\">2</th>\n",
       "      <th>ALS</th>\n",
       "      <td>100.0</td>\n",
       "      <td>0.300705</td>\n",
       "    </tr>\n",
       "    <tr>\n",
       "      <th>ItemItem</th>\n",
       "      <td>100.0</td>\n",
       "      <td>0.159272</td>\n",
       "    </tr>\n",
       "  </tbody>\n",
       "</table>\n",
       "</div>"
      ],
      "text/plain": [
       "                nrecs      ndcg\n",
       "user Algorithm                 \n",
       "1    ALS        100.0  0.290745\n",
       "     ItemItem   100.0  0.244476\n",
       "     UserUser   100.0  0.196846\n",
       "2    ALS        100.0  0.300705\n",
       "     ItemItem   100.0  0.159272"
      ]
     },
     "execution_count": 122,
     "metadata": {},
     "output_type": "execute_result"
    }
   ],
   "source": [
    "rla = topn.RecListAnalysis()\n",
    "rla.add_metric(topn.ndcg)\n",
    "results = rla.compute(all_recs, test_data)\n",
    "results.head()"
   ]
  },
  {
   "cell_type": "code",
   "execution_count": 123,
   "metadata": {},
   "outputs": [
    {
     "data": {
      "text/plain": [
       "Algorithm\n",
       "ALS         0.139939\n",
       "ItemItem    0.105116\n",
       "UserUser    0.066605\n",
       "Name: ndcg, dtype: float64"
      ]
     },
     "execution_count": 123,
     "metadata": {},
     "output_type": "execute_result"
    }
   ],
   "source": [
    "results.groupby('Algorithm').ndcg.mean()"
   ]
  },
  {
   "cell_type": "code",
   "execution_count": 124,
   "metadata": {
    "scrolled": true
   },
   "outputs": [
    {
     "data": {
      "text/plain": [
       "<matplotlib.axes._subplots.AxesSubplot at 0xa290ed990>"
      ]
     },
     "execution_count": 124,
     "metadata": {},
     "output_type": "execute_result"
    },
    {
     "data": {
      "image/png": "[encoded data removed]",
      "text/plain": [
       "<Figure size 432x288 with 1 Axes>"
      ]
     },
     "metadata": {
      "needs_background": "light"
     },
     "output_type": "display_data"
    }
   ],
   "source": [
    "results.groupby('Algorithm').ndcg.mean().plot.bar()"
   ]
  },
  {
   "cell_type": "code",
   "execution_count": 125,
   "metadata": {},
   "outputs": [
    {
     "name": "stdout",
     "output_type": "stream",
     "text": [
      "        user  item                                            title     score\n",
      "0          4   513                            Third Man, The (1949)  5.741943\n",
      "120       23   513                            Third Man, The (1949)  4.398799\n",
      "222       28   513                            Third Man, The (1949)  4.524310\n",
      "307       30   513                            Third Man, The (1949)  4.969756\n",
      "412       34   513                            Third Man, The (1949)  5.702631\n",
      "...      ...   ...                                              ...       ...\n",
      "278390   706  1044                                Paper, The (1994)  3.921113\n",
      "276382   617  1455                               Outlaw, The (1943)  3.308297\n",
      "277081   642  1621                            Butterfly Kiss (1995)  4.402973\n",
      "278355   706  1033  Homeward Bound II: Lost in San Francisco (1996)  4.010649\n",
      "281382   845  1033  Homeward Bound II: Lost in San Francisco (1996)  3.808462\n",
      "\n",
      "[282900 rows x 4 columns]\n"
     ]
    }
   ],
   "source": [
    "joint_df = pd.merge(all_recs, movies, left_on='item', right_index = True)\n",
    " \n",
    "print(joint_df[ ['user','item','title','score'] ])"
   ]
  },
  {
   "cell_type": "code",
   "execution_count": null,
   "metadata": {},
   "outputs": [],
   "source": []
  }
 ],
 "metadata": {
  "kernelspec": {
   "display_name": "Python 3",
   "language": "python",
   "name": "python3"
  },
  "language_info": {
   "codemirror_mode": {
    "name": "ipython",
    "version": 3
   },
   "file_extension": ".py",
   "mimetype": "text/x-python",
   "name": "python",
   "nbconvert_exporter": "python",
   "pygments_lexer": "ipython3",
   "version": "3.7.6"
  }
 },
 "nbformat": 4,
 "nbformat_minor": 4
}
